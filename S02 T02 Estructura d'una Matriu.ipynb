{
 "cells": [
  {
   "cell_type": "markdown",
   "id": "dae0efeb",
   "metadata": {},
   "source": [
    "# Excerci 1\n",
    "Crea un np.array d'una dimensió, que inclogui l'almenys 8 nombres sencers, data type int64. Mostra la dimensió i la forma de la matriu."
   ]
  },
  {
   "cell_type": "code",
   "execution_count": 1,
   "id": "bc650208",
   "metadata": {
    "ExecuteTime": {
     "end_time": "2022-04-04T09:10:08.258890Z",
     "start_time": "2022-04-04T09:10:07.160573Z"
    }
   },
   "outputs": [],
   "source": [
    "import numpy as np"
   ]
  },
  {
   "cell_type": "code",
   "execution_count": 2,
   "id": "e2395c87",
   "metadata": {
    "ExecuteTime": {
     "end_time": "2022-04-04T09:10:09.365502Z",
     "start_time": "2022-04-04T09:10:09.358980Z"
    }
   },
   "outputs": [],
   "source": [
    "x = np.array([17,9,14,81,29,8,14,23,4,6,1,2011], dtype=\"int64\")"
   ]
  },
  {
   "cell_type": "code",
   "execution_count": 3,
   "id": "1db73309",
   "metadata": {
    "ExecuteTime": {
     "end_time": "2022-04-04T09:10:11.181112Z",
     "start_time": "2022-04-04T09:10:11.162909Z"
    }
   },
   "outputs": [
    {
     "data": {
      "text/plain": [
       "dtype('int64')"
      ]
     },
     "execution_count": 3,
     "metadata": {},
     "output_type": "execute_result"
    }
   ],
   "source": [
    "x.dtype"
   ]
  },
  {
   "cell_type": "markdown",
   "id": "cad39952",
   "metadata": {},
   "source": [
    "# Excerci 2\n",
    "De la matriu de l'exercici 1, calcula el valor mitjà dels valors introduïts i resta la mitjana resultant de cada un dels valors de la matriu."
   ]
  },
  {
   "cell_type": "code",
   "execution_count": 6,
   "id": "9de99936",
   "metadata": {
    "ExecuteTime": {
     "end_time": "2022-04-04T09:10:36.006063Z",
     "start_time": "2022-04-04T09:10:36.000582Z"
    }
   },
   "outputs": [
    {
     "data": {
      "text/plain": [
       "14.0"
      ]
     },
     "execution_count": 6,
     "metadata": {},
     "output_type": "execute_result"
    }
   ],
   "source": [
    "np.median(x)"
   ]
  },
  {
   "cell_type": "code",
   "execution_count": 7,
   "id": "e74e6e1b",
   "metadata": {
    "ExecuteTime": {
     "end_time": "2022-04-04T09:10:37.652222Z",
     "start_time": "2022-04-04T09:10:37.644708Z"
    }
   },
   "outputs": [
    {
     "data": {
      "text/plain": [
       "array([   3.,   -5.,    0.,   67.,   15.,   -6.,    0.,    9.,  -10.,\n",
       "         -8.,  -13., 1997.])"
      ]
     },
     "execution_count": 7,
     "metadata": {},
     "output_type": "execute_result"
    }
   ],
   "source": [
    "x - np.median(x)"
   ]
  },
  {
   "cell_type": "markdown",
   "id": "2302b2d3",
   "metadata": {},
   "source": [
    "# Excerci 3\n",
    "Crea una matriu bidimensional amb una forma de 5 x 5. Extreu el valor màxim de la matriu, i els valors màxims de cadascun dels seus eixos."
   ]
  },
  {
   "cell_type": "code",
   "execution_count": 8,
   "id": "842f3327",
   "metadata": {
    "ExecuteTime": {
     "end_time": "2022-04-04T09:10:39.369541Z",
     "start_time": "2022-04-04T09:10:39.361723Z"
    }
   },
   "outputs": [
    {
     "name": "stdout",
     "output_type": "stream",
     "text": [
      "[[  3   8  45   6   3]\n",
      " [  8  33 844   7 101]]\n"
     ]
    }
   ],
   "source": [
    "y = np.array([[3,8,45,6,3], [8,33,844,7,101]])\n",
    "\n",
    "print(y)"
   ]
  },
  {
   "cell_type": "code",
   "execution_count": 9,
   "id": "50e6dbb0",
   "metadata": {
    "ExecuteTime": {
     "end_time": "2022-04-04T09:10:41.418678Z",
     "start_time": "2022-04-04T09:10:41.412301Z"
    }
   },
   "outputs": [
    {
     "data": {
      "text/plain": [
       "844"
      ]
     },
     "execution_count": 9,
     "metadata": {},
     "output_type": "execute_result"
    }
   ],
   "source": [
    "np.max(y)"
   ]
  },
  {
   "cell_type": "code",
   "execution_count": 10,
   "id": "072606f2",
   "metadata": {
    "ExecuteTime": {
     "end_time": "2022-04-04T09:10:43.296483Z",
     "start_time": "2022-04-04T09:10:43.290927Z"
    }
   },
   "outputs": [
    {
     "data": {
      "text/plain": [
       "3"
      ]
     },
     "execution_count": 10,
     "metadata": {},
     "output_type": "execute_result"
    }
   ],
   "source": [
    "np.min(y)"
   ]
  },
  {
   "cell_type": "code",
   "execution_count": 11,
   "id": "9880f808",
   "metadata": {
    "ExecuteTime": {
     "end_time": "2022-04-04T09:10:45.449512Z",
     "start_time": "2022-04-04T09:10:45.444148Z"
    }
   },
   "outputs": [
    {
     "data": {
      "text/plain": [
       "array([  8,  33, 844,   7, 101])"
      ]
     },
     "execution_count": 11,
     "metadata": {},
     "output_type": "execute_result"
    }
   ],
   "source": [
    "np.max(y, axis=0)"
   ]
  },
  {
   "cell_type": "code",
   "execution_count": 12,
   "id": "093dd6e0",
   "metadata": {
    "ExecuteTime": {
     "end_time": "2022-04-04T09:10:48.788075Z",
     "start_time": "2022-04-04T09:10:48.782866Z"
    }
   },
   "outputs": [
    {
     "data": {
      "text/plain": [
       "array([ 45, 844])"
      ]
     },
     "execution_count": 12,
     "metadata": {},
     "output_type": "execute_result"
    }
   ],
   "source": [
    "np.max(y, axis=1)"
   ]
  },
  {
   "cell_type": "code",
   "execution_count": null,
   "id": "a03a45b4",
   "metadata": {},
   "outputs": [],
   "source": []
  }
 ],
 "metadata": {
  "kernelspec": {
   "display_name": "Python 3 (ipykernel)",
   "language": "python",
   "name": "python3"
  },
  "language_info": {
   "codemirror_mode": {
    "name": "ipython",
    "version": 3
   },
   "file_extension": ".py",
   "mimetype": "text/x-python",
   "name": "python",
   "nbconvert_exporter": "python",
   "pygments_lexer": "ipython3",
   "version": "3.9.7"
  }
 },
 "nbformat": 4,
 "nbformat_minor": 5
}
